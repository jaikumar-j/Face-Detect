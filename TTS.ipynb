{
  "nbformat": 4,
  "nbformat_minor": 0,
  "metadata": {
    "colab": {
      "provenance": [],
      "authorship_tag": "ABX9TyO3qY+h5bQZ3528DofkxAWp",
      "include_colab_link": true
    },
    "kernelspec": {
      "name": "python3",
      "display_name": "Python 3"
    },
    "language_info": {
      "name": "python"
    }
  },
  "cells": [
    {
      "cell_type": "markdown",
      "metadata": {
        "id": "view-in-github",
        "colab_type": "text"
      },
      "source": [
        "<a href=\"https://colab.research.google.com/github/jaikumar-j/Face-Detect/blob/master/TTS.ipynb\" target=\"_parent\"><img src=\"https://colab.research.google.com/assets/colab-badge.svg\" alt=\"Open In Colab\"/></a>"
      ]
    },
    {
      "cell_type": "code",
      "execution_count": null,
      "metadata": {
        "id": "6T4xpeSBycdn"
      },
      "outputs": [],
      "source": [
        "# 1. Environment Setup\n",
        "!pip install -q kokoro>=0.9.4 soundfile pandas\n",
        "!apt-get -qq -y install espeak-ng > /dev/null 2>&1\n"
      ]
    },
    {
      "cell_type": "code",
      "source": [
        "# Import libraries\n",
        "from kokoro import KPipeline\n",
        "from IPython.display import display, Audio\n",
        "import soundfile as sf\n",
        "import pandas as pd\n",
        "import torch\n",
        "import os\n",
        "import numpy as np\n",
        "from scipy.spatial.distance import cosine"
      ],
      "metadata": {
        "id": "6f4UlOCiWegq"
      },
      "execution_count": null,
      "outputs": []
    },
    {
      "cell_type": "code",
      "source": [
        "os.makedirs(\"outputs\", exist_ok=True)\n",
        "# 2. Data Preparation\n",
        "\n",
        "csv_path = \"/metadata.csv\" # Change this to your actual file path\n",
        "df = pd.read_csv(csv_path)\n",
        "print(df.columns)\n",
        "\n",
        "df = df.dropna(subset=['wav_file'])  # Changed 'text' to 'wav_file'\n",
        "df = df[df['wav_file'].str.strip() != ''] # Changed 'text' to 'wav_file'\n",
        "print(f\"Loaded {len(df)} text samples from CSV.\")\n",
        "\n",
        "# 3. Model Selection & Setup\n",
        "\n",
        "pipeline = KPipeline(lang_code='a')  # 'a' = auto language detection\n",
        "\n",
        "# 4. Audio Synthesis\n",
        "\n",
        "synthesized_audio_paths = []\n",
        "\n",
        "for idx, row in df.iterrows():\n",
        "    text = row['wav_file']\n",
        "    print(f\"Generating audio for row {idx}: {text}\")\n",
        "\n",
        "    generator = pipeline(text, voice='af_heart')\n",
        "\n",
        "    for i, (gs, ps, audio) in enumerate(generator):\n",
        "        filename = f'outputs/sample_{idx}_{i}.wav'\n",
        "        sf.write(filename, audio, 48000)\n",
        "        synthesized_audio_paths.append(filename)\n",
        "        if i == 0:\n",
        "            display(Audio(data=audio, rate=48000, autoplay=True))\n",
        "\n",
        "# 5. Evaluation: Audio Similarity Metrics (Cosine Similarity on embeddings)\n",
        "from python_speech_features import mfcc\n",
        "import scipy.io.wavfile as wav\n",
        "\n",
        "def compute_audio_similarity(file1, file2):\n",
        "    rate1, sig1 = wav.read(file1)\n",
        "    rate2, sig2 = wav.read(file2)\n",
        "    mfcc1 = np.mean(mfcc(sig1, rate1), axis=0)\n",
        "    mfcc2 = np.mean(mfcc(sig2, rate2), axis=0)\n",
        "    similarity = 1 - cosine(mfcc1, mfcc2)\n",
        "    return similarity\n",
        "\n",
        "# Example similarity test between first two generated audios\n",
        "if len(synthesized_audio_paths) >= 2:\n",
        "    sim_score = compute_audio_similarity(synthesized_audio_paths[0], synthesized_audio_paths[1])\n",
        "    print(f\"Similarity between first two audio samples: {sim_score:.4f}\")"
      ],
      "metadata": {
        "id": "4w31wNY4WejV"
      },
      "execution_count": null,
      "outputs": []
    },
    {
      "cell_type": "code",
      "source": [
        "\n",
        "# 6. Report\n",
        "report = {\n",
        "    \"total_inputs\": len(df),\n",
        "    \"total_outputs\": len(synthesized_audio_paths),\n",
        "    \"sample_similarity\": sim_score if len(synthesized_audio_paths) >= 2 else \"N/A\",\n",
        "}\n",
        "\n",
        "print(\"\\n--- PROJECT REPORT ---\")\n",
        "for k, v in report.items():\n",
        "    print(f\"{k}: {v}\")"
      ],
      "metadata": {
        "id": "mN3n4bDEWemL"
      },
      "execution_count": null,
      "outputs": []
    }
  ]
}